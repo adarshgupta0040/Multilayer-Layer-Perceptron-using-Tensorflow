{
  "nbformat": 4,
  "nbformat_minor": 0,
  "metadata": {
    "colab": {
      "name": "Multilayer Layer Perceptron using Tensorflow.ipynb",
      "provenance": []
    },
    "kernelspec": {
      "name": "python3",
      "display_name": "Python 3"
    },
    "language_info": {
      "name": "python"
    }
  },
  "cells": [
    {
      "cell_type": "code",
      "execution_count": 1,
      "metadata": {
        "colab": {
          "base_uri": "https://localhost:8080/"
        },
        "id": "MBVn2DP-YvSv",
        "outputId": "4c189b01-7e1d-4f17-a2fc-fded1ca9e451"
      },
      "outputs": [
        {
          "output_type": "stream",
          "name": "stdout",
          "text": [
            "Requirement already satisfied: tensorflow in /usr/local/lib/python3.7/dist-packages (2.8.0)\n",
            "Requirement already satisfied: astunparse>=1.6.0 in /usr/local/lib/python3.7/dist-packages (from tensorflow) (1.6.3)\n",
            "Requirement already satisfied: keras-preprocessing>=1.1.1 in /usr/local/lib/python3.7/dist-packages (from tensorflow) (1.1.2)\n",
            "Requirement already satisfied: libclang>=9.0.1 in /usr/local/lib/python3.7/dist-packages (from tensorflow) (13.0.0)\n",
            "Requirement already satisfied: tensorflow-io-gcs-filesystem>=0.23.1 in /usr/local/lib/python3.7/dist-packages (from tensorflow) (0.24.0)\n",
            "Requirement already satisfied: flatbuffers>=1.12 in /usr/local/lib/python3.7/dist-packages (from tensorflow) (2.0)\n",
            "Requirement already satisfied: grpcio<2.0,>=1.24.3 in /usr/local/lib/python3.7/dist-packages (from tensorflow) (1.44.0)\n",
            "Requirement already satisfied: setuptools in /usr/local/lib/python3.7/dist-packages (from tensorflow) (57.4.0)\n",
            "Requirement already satisfied: h5py>=2.9.0 in /usr/local/lib/python3.7/dist-packages (from tensorflow) (3.1.0)\n",
            "Requirement already satisfied: numpy>=1.20 in /usr/local/lib/python3.7/dist-packages (from tensorflow) (1.21.5)\n",
            "Requirement already satisfied: keras<2.9,>=2.8.0rc0 in /usr/local/lib/python3.7/dist-packages (from tensorflow) (2.8.0)\n",
            "Requirement already satisfied: tensorboard<2.9,>=2.8 in /usr/local/lib/python3.7/dist-packages (from tensorflow) (2.8.0)\n",
            "Requirement already satisfied: opt-einsum>=2.3.2 in /usr/local/lib/python3.7/dist-packages (from tensorflow) (3.3.0)\n",
            "Requirement already satisfied: absl-py>=0.4.0 in /usr/local/lib/python3.7/dist-packages (from tensorflow) (1.0.0)\n",
            "Requirement already satisfied: protobuf>=3.9.2 in /usr/local/lib/python3.7/dist-packages (from tensorflow) (3.17.3)\n",
            "Requirement already satisfied: gast>=0.2.1 in /usr/local/lib/python3.7/dist-packages (from tensorflow) (0.5.3)\n",
            "Requirement already satisfied: termcolor>=1.1.0 in /usr/local/lib/python3.7/dist-packages (from tensorflow) (1.1.0)\n",
            "Requirement already satisfied: typing-extensions>=3.6.6 in /usr/local/lib/python3.7/dist-packages (from tensorflow) (3.10.0.2)\n",
            "Requirement already satisfied: tf-estimator-nightly==2.8.0.dev2021122109 in /usr/local/lib/python3.7/dist-packages (from tensorflow) (2.8.0.dev2021122109)\n",
            "Requirement already satisfied: six>=1.12.0 in /usr/local/lib/python3.7/dist-packages (from tensorflow) (1.15.0)\n",
            "Requirement already satisfied: google-pasta>=0.1.1 in /usr/local/lib/python3.7/dist-packages (from tensorflow) (0.2.0)\n",
            "Requirement already satisfied: wrapt>=1.11.0 in /usr/local/lib/python3.7/dist-packages (from tensorflow) (1.14.0)\n",
            "Requirement already satisfied: wheel<1.0,>=0.23.0 in /usr/local/lib/python3.7/dist-packages (from astunparse>=1.6.0->tensorflow) (0.37.1)\n",
            "Requirement already satisfied: cached-property in /usr/local/lib/python3.7/dist-packages (from h5py>=2.9.0->tensorflow) (1.5.2)\n",
            "Requirement already satisfied: werkzeug>=0.11.15 in /usr/local/lib/python3.7/dist-packages (from tensorboard<2.9,>=2.8->tensorflow) (1.0.1)\n",
            "Requirement already satisfied: requests<3,>=2.21.0 in /usr/local/lib/python3.7/dist-packages (from tensorboard<2.9,>=2.8->tensorflow) (2.23.0)\n",
            "Requirement already satisfied: tensorboard-data-server<0.7.0,>=0.6.0 in /usr/local/lib/python3.7/dist-packages (from tensorboard<2.9,>=2.8->tensorflow) (0.6.1)\n",
            "Requirement already satisfied: tensorboard-plugin-wit>=1.6.0 in /usr/local/lib/python3.7/dist-packages (from tensorboard<2.9,>=2.8->tensorflow) (1.8.1)\n",
            "Requirement already satisfied: google-auth<3,>=1.6.3 in /usr/local/lib/python3.7/dist-packages (from tensorboard<2.9,>=2.8->tensorflow) (1.35.0)\n",
            "Requirement already satisfied: markdown>=2.6.8 in /usr/local/lib/python3.7/dist-packages (from tensorboard<2.9,>=2.8->tensorflow) (3.3.6)\n",
            "Requirement already satisfied: google-auth-oauthlib<0.5,>=0.4.1 in /usr/local/lib/python3.7/dist-packages (from tensorboard<2.9,>=2.8->tensorflow) (0.4.6)\n",
            "Requirement already satisfied: pyasn1-modules>=0.2.1 in /usr/local/lib/python3.7/dist-packages (from google-auth<3,>=1.6.3->tensorboard<2.9,>=2.8->tensorflow) (0.2.8)\n",
            "Requirement already satisfied: rsa<5,>=3.1.4 in /usr/local/lib/python3.7/dist-packages (from google-auth<3,>=1.6.3->tensorboard<2.9,>=2.8->tensorflow) (4.8)\n",
            "Requirement already satisfied: cachetools<5.0,>=2.0.0 in /usr/local/lib/python3.7/dist-packages (from google-auth<3,>=1.6.3->tensorboard<2.9,>=2.8->tensorflow) (4.2.4)\n",
            "Requirement already satisfied: requests-oauthlib>=0.7.0 in /usr/local/lib/python3.7/dist-packages (from google-auth-oauthlib<0.5,>=0.4.1->tensorboard<2.9,>=2.8->tensorflow) (1.3.1)\n",
            "Requirement already satisfied: importlib-metadata>=4.4 in /usr/local/lib/python3.7/dist-packages (from markdown>=2.6.8->tensorboard<2.9,>=2.8->tensorflow) (4.11.3)\n",
            "Requirement already satisfied: zipp>=0.5 in /usr/local/lib/python3.7/dist-packages (from importlib-metadata>=4.4->markdown>=2.6.8->tensorboard<2.9,>=2.8->tensorflow) (3.7.0)\n",
            "Requirement already satisfied: pyasn1<0.5.0,>=0.4.6 in /usr/local/lib/python3.7/dist-packages (from pyasn1-modules>=0.2.1->google-auth<3,>=1.6.3->tensorboard<2.9,>=2.8->tensorflow) (0.4.8)\n",
            "Requirement already satisfied: idna<3,>=2.5 in /usr/local/lib/python3.7/dist-packages (from requests<3,>=2.21.0->tensorboard<2.9,>=2.8->tensorflow) (2.10)\n",
            "Requirement already satisfied: certifi>=2017.4.17 in /usr/local/lib/python3.7/dist-packages (from requests<3,>=2.21.0->tensorboard<2.9,>=2.8->tensorflow) (2021.10.8)\n",
            "Requirement already satisfied: urllib3!=1.25.0,!=1.25.1,<1.26,>=1.21.1 in /usr/local/lib/python3.7/dist-packages (from requests<3,>=2.21.0->tensorboard<2.9,>=2.8->tensorflow) (1.24.3)\n",
            "Requirement already satisfied: chardet<4,>=3.0.2 in /usr/local/lib/python3.7/dist-packages (from requests<3,>=2.21.0->tensorboard<2.9,>=2.8->tensorflow) (3.0.4)\n",
            "Requirement already satisfied: oauthlib>=3.0.0 in /usr/local/lib/python3.7/dist-packages (from requests-oauthlib>=0.7.0->google-auth-oauthlib<0.5,>=0.4.1->tensorboard<2.9,>=2.8->tensorflow) (3.2.0)\n"
          ]
        }
      ],
      "source": [
        "pip install tensorflow"
      ]
    },
    {
      "cell_type": "code",
      "source": [
        "#when full data set are being forward and backwardly being propogated is called Epochs\n",
        "#Glurot/Xavior"
      ],
      "metadata": {
        "id": "Xnz3LKuiY_z-"
      },
      "execution_count": 2,
      "outputs": []
    },
    {
      "cell_type": "code",
      "source": [
        "import numpy as np\n",
        "import pandas as pd\n",
        "import matplotlib.pyplot as plt\n",
        "import tensorflow as tf"
      ],
      "metadata": {
        "id": "EKvhN4BjY_2z"
      },
      "execution_count": 3,
      "outputs": []
    },
    {
      "cell_type": "code",
      "source": [
        "from sklearn.preprocessing import LabelBinarizer\n",
        "import keras"
      ],
      "metadata": {
        "id": "p-XMK26MY_5s"
      },
      "execution_count": 4,
      "outputs": []
    },
    {
      "cell_type": "code",
      "source": [
        "def load_mnist(flatten=False):\n",
        "  (X_train, Y_train), (X_test,Y_test)=keras.datasets.mnist.load_data()\n",
        "  print(X_train.shape,Y_train.shape,X_test.shape,Y_test.shape)\n",
        "  #normalisation --> between 0 to 1\n",
        "  X_train=X_train.astype(float)/255\n",
        "  X_test=X_test.astype(float)/255\n",
        "\n",
        "  #data seperation\n",
        "  X_train=X_train[ :-10000]\n",
        "  X_val=X_train[-10000: ]\n",
        "  Y_train=Y_train[ :-10000]\n",
        "  Y_val=Y_train[-10000: ]\n",
        "  print(X_val.shape,Y_val.shape)\n",
        "\n",
        "  if flatten:\n",
        "    X_train=X_train.reshape([X_train.shape[0],-1])\n",
        "    X_val=X_val.reshape([X_val.shape[0],-1])\n",
        "    X_test=X_test.reshape([X_val.shape[0],-1])\n",
        "  return X_train,Y_train,X_val,Y_val,X_test,Y_test\n"
      ],
      "metadata": {
        "id": "2B2HhNFsY_8X"
      },
      "execution_count": 5,
      "outputs": []
    },
    {
      "cell_type": "code",
      "source": [
        "X_train,Y_train,X_val,Y_val,X_test,Y_test=load_mnist()\n"
      ],
      "metadata": {
        "colab": {
          "base_uri": "https://localhost:8080/"
        },
        "id": "CASu0H0rY__H",
        "outputId": "0cc6b869-0985-4c8c-9886-97f0f97d6913"
      },
      "execution_count": 6,
      "outputs": [
        {
          "output_type": "stream",
          "name": "stdout",
          "text": [
            "(60000, 28, 28) (60000,) (10000, 28, 28) (10000,)\n",
            "(10000, 28, 28) (10000,)\n"
          ]
        }
      ]
    },
    {
      "cell_type": "code",
      "source": [
        "print(Y_train[0])\n",
        "plt.imshow(X_train[0],cmap=\"Greys\")"
      ],
      "metadata": {
        "colab": {
          "base_uri": "https://localhost:8080/",
          "height": 301
        },
        "id": "j0crM3aSZABw",
        "outputId": "df27c92a-9cfe-4bc7-9263-fdd9a86875cd"
      },
      "execution_count": 7,
      "outputs": [
        {
          "output_type": "stream",
          "name": "stdout",
          "text": [
            "5\n"
          ]
        },
        {
          "output_type": "execute_result",
          "data": {
            "text/plain": [
              "<matplotlib.image.AxesImage at 0x7f50c2c51150>"
            ]
          },
          "metadata": {},
          "execution_count": 7
        },
        {
          "output_type": "display_data",
          "data": {
            "text/plain": [
              "<Figure size 432x288 with 1 Axes>"
            ],
            "image/png": "[encoded data removed]"
          },
          "metadata": {
            "needs_background": "light"
          }
        }
      ]
    },
    {
      "cell_type": "code",
      "source": [
        "print(Y_train[3])\n",
        "plt.imshow(X_train[3],cmap=\"Greys\")"
      ],
      "metadata": {
        "colab": {
          "base_uri": "https://localhost:8080/",
          "height": 301
        },
        "id": "k60wrJvHZAEa",
        "outputId": "e6f16c38-6376-4e0d-f7a6-48f8f03acedb"
      },
      "execution_count": 8,
      "outputs": [
        {
          "output_type": "stream",
          "name": "stdout",
          "text": [
            "1\n"
          ]
        },
        {
          "output_type": "execute_result",
          "data": {
            "text/plain": [
              "<matplotlib.image.AxesImage at 0x7f50c2c27f10>"
            ]
          },
          "metadata": {},
          "execution_count": 8
        },
        {
          "output_type": "display_data",
          "data": {
            "text/plain": [
              "<Figure size 432x288 with 1 Axes>"
            ],
            "image/png": "[encoded data removed]"
          },
          "metadata": {
            "needs_background": "light"
          }
        }
      ]
    },
    {
      "cell_type": "code",
      "source": [
        "print(Y_train[10])\n",
        "plt.imshow(X_train[10],cmap=\"Greys\")"
      ],
      "metadata": {
        "colab": {
          "base_uri": "https://localhost:8080/",
          "height": 301
        },
        "id": "2U_M70CiZAHh",
        "outputId": "d8d65a26-25a4-4d1a-adec-fbfd55380f59"
      },
      "execution_count": 9,
      "outputs": [
        {
          "output_type": "stream",
          "name": "stdout",
          "text": [
            "3\n"
          ]
        },
        {
          "output_type": "execute_result",
          "data": {
            "text/plain": [
              "<matplotlib.image.AxesImage at 0x7f50c26fbbd0>"
            ]
          },
          "metadata": {},
          "execution_count": 9
        },
        {
          "output_type": "display_data",
          "data": {
            "text/plain": [
              "<Figure size 432x288 with 1 Axes>"
            ],
            "image/png": "[encoded data removed]"
          },
          "metadata": {
            "needs_background": "light"
          }
        }
      ]
    },
    {
      "cell_type": "code",
      "source": [
        "X_train[0].shape"
      ],
      "metadata": {
        "colab": {
          "base_uri": "https://localhost:8080/"
        },
        "id": "SMTKDVhtt1P-",
        "outputId": "1f7aa57a-3332-4209-8548-d6d79dd5db05"
      },
      "execution_count": 10,
      "outputs": [
        {
          "output_type": "execute_result",
          "data": {
            "text/plain": [
              "(28, 28)"
            ]
          },
          "metadata": {},
          "execution_count": 10
        }
      ]
    },
    {
      "cell_type": "code",
      "source": [
        "X_train.shape"
      ],
      "metadata": {
        "colab": {
          "base_uri": "https://localhost:8080/"
        },
        "id": "Owu8h5O2t1Sf",
        "outputId": "66224cf4-61c7-4c1c-92d0-26bfb1fa0dbe"
      },
      "execution_count": 11,
      "outputs": [
        {
          "output_type": "execute_result",
          "data": {
            "text/plain": [
              "(50000, 28, 28)"
            ]
          },
          "metadata": {},
          "execution_count": 11
        }
      ]
    },
    {
      "cell_type": "markdown",
      "source": [
        "## Changing dimension of input from N* 28 * 28 to N*784"
      ],
      "metadata": {
        "id": "JkyxT-X1uBCI"
      }
    },
    {
      "cell_type": "code",
      "source": [
        "28*28"
      ],
      "metadata": {
        "colab": {
          "base_uri": "https://localhost:8080/"
        },
        "id": "4Ouuj20At1VT",
        "outputId": "b96a063f-a880-4287-bc32-8fd694d5a285"
      },
      "execution_count": 12,
      "outputs": [
        {
          "output_type": "execute_result",
          "data": {
            "text/plain": [
              "784"
            ]
          },
          "metadata": {},
          "execution_count": 12
        }
      ]
    },
    {
      "cell_type": "code",
      "source": [
        "X_train.shape[2]"
      ],
      "metadata": {
        "colab": {
          "base_uri": "https://localhost:8080/"
        },
        "id": "mcCecV14t1Xu",
        "outputId": "cc845caf-1f68-4756-a673-ee99e0ff2267"
      },
      "execution_count": 13,
      "outputs": [
        {
          "output_type": "execute_result",
          "data": {
            "text/plain": [
              "28"
            ]
          },
          "metadata": {},
          "execution_count": 13
        }
      ]
    },
    {
      "cell_type": "code",
      "source": [
        "X_train=X_train.reshape((X_train.shape[0],X_train.shape[1]*X_train.shape[2]))\n",
        "X_test=X_test.reshape((X_test.shape[0],X_test.shape[1]*X_test.shape[2]))\n",
        "\n",
        "\n"
      ],
      "metadata": {
        "id": "QaI1zIL42zzm"
      },
      "execution_count": 14,
      "outputs": []
    },
    {
      "cell_type": "code",
      "source": [
        "X_train.shape"
      ],
      "metadata": {
        "colab": {
          "base_uri": "https://localhost:8080/"
        },
        "id": "QzyiOBzG2z2Q",
        "outputId": "ba791f4c-70b2-4e12-83d9-d207b0065fce"
      },
      "execution_count": 15,
      "outputs": [
        {
          "output_type": "execute_result",
          "data": {
            "text/plain": [
              "(50000, 784)"
            ]
          },
          "metadata": {},
          "execution_count": 15
        }
      ]
    },
    {
      "cell_type": "code",
      "source": [
        "Y_train=LabelBinarizer().fit_transform(Y_train)\n",
        "Y_test=LabelBinarizer().fit_transform(Y_test)"
      ],
      "metadata": {
        "id": "PWbrifpv2z4p"
      },
      "execution_count": 16,
      "outputs": []
    },
    {
      "cell_type": "code",
      "source": [
        "print(Y_train.shape,Y_test.shape)"
      ],
      "metadata": {
        "colab": {
          "base_uri": "https://localhost:8080/"
        },
        "id": "rANF4su92z9l",
        "outputId": "3de12bc5-199b-45a6-c5f0-04a90b9c0453"
      },
      "execution_count": 17,
      "outputs": [
        {
          "output_type": "stream",
          "name": "stdout",
          "text": [
            "(50000, 10) (10000, 10)\n"
          ]
        }
      ]
    },
    {
      "cell_type": "code",
      "source": [
        "num_classes=Y_train.shape[1]\n",
        "num_features=X_train.shape[1]\n",
        "num_output=Y_train.shape[1]\n",
        "num_layers_0=512\n",
        "num_layers_1=256\n",
        "start_learning_rate=0.001\n",
        "regularizer_rate=0.1"
      ],
      "metadata": {
        "id": "0VZKq8nI20MJ"
      },
      "execution_count": 33,
      "outputs": []
    },
    {
      "cell_type": "code",
      "source": [
        "import tensorflow.compat.v1 as tf\n",
        "tf.disable_v2_behavior()"
      ],
      "metadata": {
        "id": "jvRSyHQL20PL"
      },
      "execution_count": 34,
      "outputs": []
    },
    {
      "cell_type": "code",
      "source": [
        "input_X=tf.placeholder(\"float32\",shape=(None,num_features),name=\"input_X\")\n",
        "input_Y=tf.placeholder(\"float32\",shape=(None,num_classes),name=\"input_Y\")\n",
        "keep_prob=tf.placeholder(tf.float32)"
      ],
      "metadata": {
        "id": "Sx3AKMaT20St"
      },
      "execution_count": 35,
      "outputs": []
    },
    {
      "cell_type": "code",
      "source": [
        "#input_layer\n",
        "weight_0=tf.Variable(tf.random_normal([num_features,num_layers_0],stddev=1/tf.sqrt(float(num_features))))\n",
        "bias_0=tf.Variable(tf.random_normal([num_layers_0]))\n",
        "\n",
        "#hidden_layer\n",
        "weight_1=tf.Variable(tf.random_normal([num_layers_0,num_layers_1],stddev=1/tf.sqrt(float(num_layers_0))))\n",
        "bias_1=tf.Variable(tf.random_normal([num_layers_1]))\n",
        "\n",
        "#output_layer\n",
        "weight_2=tf.Variable(tf.random_normal([num_layers_1,num_output],stddev=1/tf.sqrt(float(num_layers_1))))\n",
        "bias_2=tf.Variable(tf.random_normal([num_output]))\n"
      ],
      "metadata": {
        "id": "108fLKNE20XZ"
      },
      "execution_count": 36,
      "outputs": []
    },
    {
      "cell_type": "code",
      "source": [
        "hidden_output_0=tf.nn.relu(tf.matmul(input_X,weight_0)+bias_0)\n",
        "hidden_output_0_0=tf.nn.dropout(hidden_output_0,keep_prob)\n",
        "\n",
        "hidden_output_1=tf.nn.relu(tf.matmul(hidden_output_0_0,weight_1)+bias_1)\n",
        "hidden_output_1_1=tf.nn.dropout(hidden_output_1,keep_prob)\n",
        "\n",
        "predicted_y=tf.sigmoid(tf.matmul(hidden_output_1_1,weight_2)+bias_2)\n",
        "\n"
      ],
      "metadata": {
        "id": "Q6cLBXM620a5"
      },
      "execution_count": 37,
      "outputs": []
    },
    {
      "cell_type": "code",
      "source": [
        "loss=tf.reduce_mean(tf.nn.softmax_cross_entropy_with_logits_v2(logits=predicted_y,labels=input_Y))+ regularizer_rate*(tf.reduce_sum(tf.square(bias_0))*tf.reduce_sum(tf.square(bias_1)) )\n"
      ],
      "metadata": {
        "id": "QVNA1FT3Amvp"
      },
      "execution_count": 38,
      "outputs": []
    },
    {
      "cell_type": "code",
      "source": [
        "learning_rate=tf.train.exponential_decay(start_learning_rate,0,5,0.85,staircase=True)\n",
        "optimizer=tf.train.AdamOptimizer(learning_rate).minimize(loss,var_list=[weight_0,weight_1,weight_2,bias_0,bias_1,bias_2])\n"
      ],
      "metadata": {
        "id": "ZvuN350QAmya"
      },
      "execution_count": 39,
      "outputs": []
    },
    {
      "cell_type": "code",
      "source": [
        "correct_prediction=tf.equal(tf.argmax(Y_train,1),tf.argmax(predicted_y,1))\n",
        "accuracy=tf.reduce_mean(tf.cast(correct_prediction,tf.float32))"
      ],
      "metadata": {
        "id": "Jk7sDs9SAm1d"
      },
      "execution_count": 40,
      "outputs": []
    },
    {
      "cell_type": "code",
      "source": [
        "batch_size=128\n",
        "epochs=14\n",
        "dropout_prob=0.6\n"
      ],
      "metadata": {
        "id": "c-XignpOAm6b"
      },
      "execution_count": 41,
      "outputs": []
    },
    {
      "cell_type": "code",
      "source": [
        "training_accuracy=[]\n",
        "training_loss=[]\n",
        "testing_accuracy=[]"
      ],
      "metadata": {
        "id": "lVx4AKsyAm9T"
      },
      "execution_count": 42,
      "outputs": []
    },
    {
      "cell_type": "code",
      "source": [
        "s=tf.InteractiveSession()"
      ],
      "metadata": {
        "colab": {
          "base_uri": "https://localhost:8080/"
        },
        "id": "1LTa5wGpAnAp",
        "outputId": "b3c4da48-7078-47b8-825c-372d397e8484"
      },
      "execution_count": 43,
      "outputs": [
        {
          "output_type": "stream",
          "name": "stderr",
          "text": [
            "/usr/local/lib/python3.7/dist-packages/tensorflow/python/client/session.py:1768: UserWarning: An interactive session is already active. This can cause out-of-memory errors in some cases. You must explicitly call `InteractiveSession.close()` to release resources held by the other session(s).\n",
            "  warnings.warn('An interactive session is already active. This can '\n"
          ]
        }
      ]
    },
    {
      "cell_type": "code",
      "source": [
        "from sklearn.metrics import accuracy_score"
      ],
      "metadata": {
        "id": "1bnk31rjAnDn"
      },
      "execution_count": 44,
      "outputs": []
    },
    {
      "cell_type": "code",
      "source": [
        "# s.run(tf.global_variables_initializer())\n",
        "# for epoch in range(epochs):\n",
        "#   arr=np.arange(X_train.shape[0])\n",
        "#   np.random.shuffle(arr)\n",
        "#   for index in range(0,X_train.shape[0],batch_size):\n",
        "#     s.run(optimizer,{input_X:X_train[arr[index:index+batch_size]],input_Y:Y_train[arr[index:index+batch_size]],keep_prob:dropout_prob})\n",
        "\n",
        "#     training_accuracy.append(s.run(accuracy,feed_dict={input_X:X_train,input_Y:Y_train,keep_prob:1}))\n",
        "#     testing_accuracy.append(accuracy_score(Y_test.argmax(1),s.run(predicted_y,{input_X:X_test,keep_prob:1}).argmax(1)))\n",
        "#     training_loss.append(s.run(loss,{input_X:X_train,input_Y:Y_train,keep_prob:1}))\n",
        "#     print(\"Epochs:{0},train loss:{1:2f},Train accu:{2:3f},Test acc:{3:3f}\",format(epoch,training_loss[epoch],training_accuracy[epoch],testing_accuracy[epoch]))"
      ],
      "metadata": {
        "id": "Z5QwPhP7t1ax"
      },
      "execution_count": 30,
      "outputs": []
    },
    {
      "cell_type": "code",
      "source": [
        "s.run(tf.global_variables_initializer())\n",
        "for epoch in range(epochs):    \n",
        "    arr = np.arange(X_train.shape[0])\n",
        "    np.random.shuffle(arr)\n",
        "    for index in range(0,X_train.shape[0],batch_size):\n",
        "        s.run(optimizer, {input_X: X_train[arr[index:index+batch_size]],\n",
        "                          input_Y: Y_train[arr[index:index+batch_size]],\n",
        "                        keep_prob:dropout_prob})\n",
        "    training_accuracy.append(s.run(accuracy, feed_dict= {input_X:X_train, \n",
        "                                                         input_Y: Y_train,keep_prob:1}))\n",
        "    training_loss.append(s.run(loss, {input_X: X_train, \n",
        "                                      input_Y: Y_train,keep_prob:1}))\n",
        "    \n",
        "    ## Evaluation of model\n",
        "    testing_accuracy.append(accuracy_score(Y_test.argmax(1), \n",
        "                            s.run(predicted_y, {input_X: X_test,keep_prob:1}).argmax(1)))\n",
        "    print(\"Epoch:{0}, Train loss: {1:.2f} Train acc: {2:.3f}, Test acc:{3:.3f}\".format(epoch,\n",
        "                                                                    training_loss[epoch],\n",
        "                                                                    training_accuracy[epoch],\n",
        "                                                                   testing_accuracy[epoch]))"
      ],
      "metadata": {
        "colab": {
          "base_uri": "https://localhost:8080/"
        },
        "id": "C0Sy_7i_5FPn",
        "outputId": "74f3f0fd-76f0-4a39-896d-3bff88097e89"
      },
      "execution_count": 45,
      "outputs": [
        {
          "output_type": "stream",
          "name": "stdout",
          "text": [
            "Epoch:0, Train loss: 3865.84 Train acc: 0.936, Test acc:0.939\n",
            "Epoch:1, Train loss: 1685.44 Train acc: 0.956, Test acc:0.952\n",
            "Epoch:2, Train loss: 850.39 Train acc: 0.967, Test acc:0.961\n",
            "Epoch:3, Train loss: 470.63 Train acc: 0.974, Test acc:0.966\n",
            "Epoch:4, Train loss: 277.44 Train acc: 0.979, Test acc:0.972\n",
            "Epoch:5, Train loss: 171.15 Train acc: 0.981, Test acc:0.973\n",
            "Epoch:6, Train loss: 109.23 Train acc: 0.983, Test acc:0.975\n",
            "Epoch:7, Train loss: 71.58 Train acc: 0.986, Test acc:0.976\n",
            "Epoch:8, Train loss: 47.93 Train acc: 0.986, Test acc:0.974\n",
            "Epoch:9, Train loss: 32.69 Train acc: 0.986, Test acc:0.974\n",
            "Epoch:10, Train loss: 22.67 Train acc: 0.989, Test acc:0.978\n",
            "Epoch:11, Train loss: 15.97 Train acc: 0.990, Test acc:0.979\n",
            "Epoch:12, Train loss: 11.45 Train acc: 0.990, Test acc:0.978\n",
            "Epoch:13, Train loss: 8.37 Train acc: 0.990, Test acc:0.978\n"
          ]
        }
      ]
    }
  ]
}